{
  "cells": [
    {
      "cell_type": "markdown",
      "metadata": {
        "id": "Fo-FP8LLBmzr"
      },
      "source": [
        "**Python Basics Questions**"
      ]
    },
    {
      "cell_type": "markdown",
      "metadata": {
        "id": "d589KhyWy_L-"
      },
      "source": [
        "**1. What is Python, and why is it popular?**\n",
        "\n",
        "Ans. Python is a programming language that is easy to understand and write, making it a popular choice among developers and programmers.\n",
        "It is compatible with various programming paradigms, such as procedural, object-oriented, and functional programming."
      ]
    },
    {
      "cell_type": "markdown",
      "metadata": {
        "id": "xUkdbe0nzYYV"
      },
      "source": [
        "**2.What is an interpreter in Python?**\n",
        "\n",
        "Ans. An interpreter is a program that reads and executes Python code line by line, translating it into machine-readable instructions for the computer to understand and run"
      ]
    },
    {
      "cell_type": "markdown",
      "metadata": {
        "id": "ZRTUoD6lzmzr"
      },
      "source": [
        "**3.What are pre-defined keywords in Python?**\n",
        "\n",
        "Keywords are reserved words in Python that have special meanings and cannot be used as identifiers (variable names, function names, etc.). Examples of keywords include if, else, while, for, def, class, import, try, except, return, True, False, None, etc. Keywords are case-sensitive and cannot be redefined or overridden within a Python program."
      ]
    },
    {
      "cell_type": "markdown",
      "metadata": {
        "id": "GWbrp75Xz2Fj"
      },
      "source": [
        "**4.Can keywords be used as variable names?**\n",
        "\n",
        "No, you cannot use keywords as variable names in most programming languages because keywords are reserved words with predefined meanings used by the language's compiler or interpreter."
      ]
    },
    {
      "cell_type": "markdown",
      "metadata": {
        "id": "OrTIUSVnz19b"
      },
      "source": [
        "**5.What is mutability in Python?**\n",
        "\n",
        "In Python, objects can be either changeable (modifiable) or unchangeable (unchangeable). Mutable objects, such as lists and dictionaries, can be modified after creation, while immutable objects, such as tuples and strings, cannot. Mutability affects how objects are stored and manipulated in memory, impacting performance, memory usage, and concurrency in Python programs."
      ]
    },
    {
      "cell_type": "markdown",
      "metadata": {
        "id": "tOdJNILBz10L"
      },
      "source": [
        "**6.Why are lists mutable, but tuples are immutable?**\n",
        "\n",
        "Tuples use parentheses instead of square brackets, and the items in tuples cannot be modified (but the items in lists can be modified). We often call lists mutable (meaning they can be changed) and tuples immutable (meaning they cannot be changed).\n",
        "\n"
      ]
    },
    {
      "cell_type": "markdown",
      "metadata": {
        "id": "6cM7UuGb0poK"
      },
      "source": [
        "**7.What is the difference between “==” and “is” operators in Python?**\n",
        "\n",
        "In Python, the == operator checks for value equality, meaning it determines if two objects have the same content or data. In contrast, the is operator checks for object identity, verifying if two variables reference the same object in memory."
      ]
    },
    {
      "cell_type": "markdown",
      "metadata": {
        "id": "ozMzOKaT03pu"
      },
      "source": [
        "**8.What are logical operators in Python?**\n",
        "\n",
        "A logical operator is a symbol or word used to connect two or more expressions such that the value of the compound expression produced depends only on that of the original expressions and on the meaning of the operator. Common logical operators include AND, OR, and NOT.\n"
      ]
    },
    {
      "cell_type": "markdown",
      "metadata": {
        "id": "pzaBOo7F03nZ"
      },
      "source": [
        "**9.What is type casting in Python?**\n",
        "\n",
        "Type casting, also referred to as type conversion, is the process of changing one data type to another in Python. Python provides built-in functions for type casting, such as int(), float(), str(), list(), tuple(). dict(). etc. Type casting is often necessary for performing arithmetic operations, data manipulation, and input/output operations in Python programs."
      ]
    },
    {
      "cell_type": "markdown",
      "metadata": {
        "id": "zQZBgam803lK"
      },
      "source": [
        "**10.What is the difference between implicit and explicit type casting?**\n",
        "\n",
        "Implicit type casting (or type conversion) happens automatically by the compiler, while explicit type casting (or type casting) requires the programmer to manually specify the conversion, often with the risk of data loss."
      ]
    },
    {
      "cell_type": "markdown",
      "metadata": {
        "id": "FtrXXZWT03i5"
      },
      "source": [
        "**11.What is the purpose of conditional statements in Python?**\n",
        "\n",
        "Conditional statements in Python (like if, elif, and else) control the flow of execution in a program by allowing different code blocks to run based on whether certain conditions are true or false. They enable a program to make decisions and adapt its behavior based on specific circumstances."
      ]
    },
    {
      "cell_type": "markdown",
      "metadata": {
        "id": "CG5hzcRS03gZ"
      },
      "source": [
        "**12.How does the elif statement work?**\n",
        "\n",
        "The “elif” keyword in Python, stands for “else if”. It can be used in conditional statements to check for multiple conditions. For example, if the first condition is false, it moves on to the next “elif” statement to check if that condition is true"
      ]
    },
    {
      "cell_type": "markdown",
      "metadata": {
        "id": "uCBOoCj703eC"
      },
      "source": [
        "**13.What is the difference between for and while loops?**\n",
        "\n",
        "The key difference between for and while loops lies in how they control iteration: for loops are used when the number of iterations is known in advance or can be determined before entering the loop, typically when iterating over a sequence (like a list, array, or string). while loops, on the other hand, are used when the number of iterations is not known beforehand, and the loop continues until a specific condition is met.\n"
      ]
    },
    {
      "cell_type": "markdown",
      "metadata": {
        "id": "l2VBleHw03bp"
      },
      "source": [
        "**14.Describe a scenario where a while loop is more suitable than a for loop?**\n",
        "\n",
        "The for loops are best used when you know the number of iterations ahead of time, whereas a while loop is best used when you don't know the number of iterations in advance. Both methods can help you iterate through your code."
      ]
    },
    {
      "cell_type": "markdown",
      "metadata": {
        "id": "lKQtHWak2L5_"
      },
      "source": [
        "**Practical Questions**"
      ]
    },
    {
      "cell_type": "markdown",
      "metadata": {
        "id": "CeZ-kTu62Otf"
      },
      "source": [
        "**1.Write a Python program to print \"Hello, World!\"**"
      ]
    },
    {
      "cell_type": "code",
      "execution_count": null,
      "metadata": {
        "colab": {
          "base_uri": "https://localhost:8080/"
        },
        "id": "AkNsDJ_02FrC",
        "outputId": "b40addd2-701d-4213-e2c7-8a01da0e34fc"
      },
      "outputs": [
        {
          "name": "stdout",
          "output_type": "stream",
          "text": [
            "Hello, World!\n"
          ]
        }
      ],
      "source": [
        "print(\"Hello, World!\")"
      ]
    },
    {
      "cell_type": "markdown",
      "metadata": {
        "id": "TIbuAcsi2eB2"
      },
      "source": [
        "**2.Write a Python program that displays your name and age.**"
      ]
    },
    {
      "cell_type": "code",
      "execution_count": null,
      "metadata": {
        "colab": {
          "base_uri": "https://localhost:8080/"
        },
        "id": "b3cV35HC2ZIk",
        "outputId": "f38c554f-62eb-43ab-98bb-7d02b8a36c19"
      },
      "outputs": [
        {
          "name": "stdout",
          "output_type": "stream",
          "text": [
            "Name =  Vishal , Age =  27\n"
          ]
        }
      ],
      "source": [
        "name=\"Vishal\"\n",
        "age=\"27\"\n",
        "print(\"Name = \",name,',',\"Age = \",age)"
      ]
    },
    {
      "cell_type": "markdown",
      "metadata": {
        "id": "TDjv9mrG3Dxd"
      },
      "source": [
        "**3.Write code to print all the pre-defined keywords in Python using the keyword library.**"
      ]
    },
    {
      "cell_type": "code",
      "execution_count": null,
      "metadata": {
        "colab": {
          "base_uri": "https://localhost:8080/"
        },
        "id": "x-QYieNW2vZM",
        "outputId": "4c231832-29c1-4c45-f496-6f64261e5143"
      },
      "outputs": [
        {
          "name": "stdout",
          "output_type": "stream",
          "text": [
            "\n",
            "Here is a list of the Python keywords.  Enter any keyword to get more help.\n",
            "\n",
            "False               class               from                or\n",
            "None                continue            global              pass\n",
            "True                def                 if                  raise\n",
            "and                 del                 import              return\n",
            "as                  elif                in                  try\n",
            "assert              else                is                  while\n",
            "async               except              lambda              with\n",
            "await               finally             nonlocal            yield\n",
            "break               for                 not                 \n",
            "\n"
          ]
        }
      ],
      "source": [
        "help('keywords')"
      ]
    },
    {
      "cell_type": "markdown",
      "metadata": {
        "id": "xxQaEVvN3v7G"
      },
      "source": [
        "**4.Write a program that checks if a given word is a Python keyword.**"
      ]
    },
    {
      "cell_type": "code",
      "execution_count": 5,
      "metadata": {
        "colab": {
          "base_uri": "https://localhost:8080/"
        },
        "id": "i0C4uS-H3bxx",
        "outputId": "7474c101-676b-4f4d-f8bb-bead2af0efd7"
      },
      "outputs": [
        {
          "output_type": "stream",
          "name": "stdout",
          "text": [
            "enter the word to find whether it is keyword = True\n",
            "the word =  True  - is a keyword\n"
          ]
        }
      ],
      "source": [
        "keyword=[\"False\", \"class\", \"fromor\", \"None\",\"continue\",\"globalpass\",\"True\",\"def\",\"if\",\"raise\",\"and\",\"del\",\"import\",\"return\",\"as\",\"elif\",\"in\",\"try\",\"assert\",\"else\",\"is\",\"while\",\"async\",\"except\",\"lambda\",\"with\",\"await\",\"finally\",\"nonlocal\",\"yield\",\"break\",\"for\",\"not\"]\n",
        "a=str(input(\"enter the word to find whether it is keyword = \"))\n",
        "if a in keyword:\n",
        "  print(\"the word = \", a, \" - is a keyword\")\n",
        "else:\n",
        "  print(\"the word = \", a, \" - is not a keyword\")"
      ]
    },
    {
      "cell_type": "markdown",
      "metadata": {
        "id": "9C6xWziX5swg"
      },
      "source": [
        "**5.Create a list and tuple in Python, and demonstrate how attempting to change an element works differently\n",
        "for each**"
      ]
    },
    {
      "cell_type": "code",
      "execution_count": null,
      "metadata": {
        "colab": {
          "base_uri": "https://localhost:8080/"
        },
        "id": "QQb0zO0i5V3l",
        "outputId": "4a3ee2ab-3dea-49a7-95dc-f15fdb0e0e2f"
      },
      "outputs": [
        {
          "data": {
            "text/plain": [
              "[1, 2, 3, 4.4, 'python']"
            ]
          },
          "execution_count": 2,
          "metadata": {},
          "output_type": "execute_result"
        }
      ],
      "source": [
        "list01=[1,2,3,4.4,\"python\"]\n",
        "list01"
      ]
    },
    {
      "cell_type": "code",
      "execution_count": null,
      "metadata": {
        "colab": {
          "base_uri": "https://localhost:8080/"
        },
        "id": "rTfXsZn3teJH",
        "outputId": "8d98e982-35f6-47b8-ba0e-9cb193ff3601"
      },
      "outputs": [
        {
          "data": {
            "text/plain": [
              "['ok world', 2, 3, 4.4, 'python']"
            ]
          },
          "execution_count": 3,
          "metadata": {},
          "output_type": "execute_result"
        }
      ],
      "source": [
        "list01[0]=\"ok world\" # this will change directly the values of a list.\n",
        "# so we can change the assigned value of list.\n",
        "list01"
      ]
    },
    {
      "cell_type": "code",
      "execution_count": null,
      "metadata": {
        "colab": {
          "base_uri": "https://localhost:8080/"
        },
        "id": "MvffChi9u9Hn",
        "outputId": "ccdd9602-5680-49f5-96ef-c3cb6521bfb7"
      },
      "outputs": [
        {
          "name": "stdout",
          "output_type": "stream",
          "text": [
            "('apple', 'kiwi', 'cherry')\n"
          ]
        }
      ],
      "source": [
        "x = (\"apple\", \"banana\", \"cherry\") # 'x' is tuple\n",
        "y = list(x)\n",
        "y[1] = \"kiwi\"\n",
        "# to change the value of tuple we cannot change it directly instead we have to change it in list and then againt to tuple because once the value is assigned in tuple it cannot change.\n",
        "x = tuple(y)\n",
        "\n",
        "print(x)"
      ]
    },
    {
      "cell_type": "markdown",
      "metadata": {
        "id": "Uo5LFbf06NyY"
      },
      "source": [
        "**6.Write a function to demonstrate the behavior of mutable and immutable arguments.**"
      ]
    },
    {
      "cell_type": "code",
      "execution_count": null,
      "metadata": {
        "colab": {
          "base_uri": "https://localhost:8080/"
        },
        "id": "LyeKX4kz6QUS",
        "outputId": "40d49ddb-c305-4724-ad27-4aea5fa5784e"
      },
      "outputs": [
        {
          "data": {
            "text/plain": [
              "['Gauva', 'Apple', 2, 3.4, True]"
            ]
          },
          "execution_count": 15,
          "metadata": {},
          "output_type": "execute_result"
        }
      ],
      "source": [
        "s_list=['Orange', 'Apple', 2, 3.4,True]\n",
        "s_list[0]='Gauva' # simple changing element of list >> list is mutable\n",
        "s_list"
      ]
    },
    {
      "cell_type": "code",
      "execution_count": null,
      "metadata": {
        "colab": {
          "base_uri": "https://localhost:8080/"
        },
        "id": "z9aPeye5w7BT",
        "outputId": "ebad4be5-f4e9-4438-ead0-ff68c3bad285"
      },
      "outputs": [
        {
          "data": {
            "text/plain": [
              "{'blue', 'orange', 'python', 'red'}"
            ]
          },
          "execution_count": 18,
          "metadata": {},
          "output_type": "execute_result"
        }
      ],
      "source": [
        "s={\"red\",\"orange\",\"red\",\"blue\",\"orange\"}\n",
        "s.add(\"python\")\n",
        "# we cannot use indexing instead we can use other methods to change the value of a set.\n",
        "# sets are also mutable.\n",
        "s"
      ]
    },
    {
      "cell_type": "code",
      "execution_count": null,
      "metadata": {
        "colab": {
          "base_uri": "https://localhost:8080/"
        },
        "id": "h0Xf4ZH9xkBi",
        "outputId": "1153703b-0629-43cf-d0d0-d0b228209b23"
      },
      "outputs": [
        {
          "data": {
            "text/plain": [
              "{'English': 1003, 'Science': 1002}"
            ]
          },
          "execution_count": 21,
          "metadata": {},
          "output_type": "execute_result"
        }
      ],
      "source": [
        "book01={\"English\":1001,\"Science\":1002}\n",
        "book01[\"English\"]=1003\n",
        "# in dictionary we can change the value as above\n",
        "# dictionary is mutable\n",
        "book01"
      ]
    },
    {
      "cell_type": "code",
      "execution_count": null,
      "metadata": {
        "colab": {
          "base_uri": "https://localhost:8080/",
          "height": 106
        },
        "id": "7hj9ViS0wrY5",
        "outputId": "25422d9d-05db-49a1-bd93-d4ffc010b5c1"
      },
      "outputs": [
        {
          "ename": "SyntaxError",
          "evalue": "cannot assign to function call here. Maybe you meant '==' instead of '='? (<ipython-input-16-f4d8453287ec>, line 2)",
          "output_type": "error",
          "traceback": [
            "\u001b[0;36m  File \u001b[0;32m\"<ipython-input-16-f4d8453287ec>\"\u001b[0;36m, line \u001b[0;32m2\u001b[0m\n\u001b[0;31m    tup(0)=4\u001b[0m\n\u001b[0m    ^\u001b[0m\n\u001b[0;31mSyntaxError\u001b[0m\u001b[0;31m:\u001b[0m cannot assign to function call here. Maybe you meant '==' instead of '='?\n"
          ]
        }
      ],
      "source": [
        "tup=(1,2,3.3,'python')\n",
        "tup(0)=4 # we cannot change element of tup once assigned >> tuple is immutable.\n",
        "# thus it is immutable argument"
      ]
    },
    {
      "cell_type": "markdown",
      "metadata": {
        "id": "GLXibgkq6d5H"
      },
      "source": [
        "**7.Write a program that performs basic arithmetic operations on two user-input numbers.**"
      ]
    },
    {
      "cell_type": "code",
      "execution_count": null,
      "metadata": {
        "colab": {
          "base_uri": "https://localhost:8080/"
        },
        "id": "Sq-rmZ6b6g-a",
        "outputId": "169cb3e3-8a77-44ed-d329-3f235df40f1e"
      },
      "outputs": [
        {
          "name": "stdout",
          "output_type": "stream",
          "text": [
            "enter the value = 55\n",
            "+,/,*,-*\n",
            "enter other value = 5\n",
            "required answer =  275.0\n"
          ]
        }
      ],
      "source": [
        "x=float(input(\"enter the value = \"))\n",
        "o=str(input(\"+,/,*,-\")) # basic arithmetic operations +,-,*,/\n",
        "y=float(input(\"enter other value = \"))\n",
        "if o==\"+\":\n",
        "  print(\"required answer = \",x+y)\n",
        "elif o==\"/\":\n",
        "  print(\"required answer = \",x/y)\n",
        "elif o==\"*\":\n",
        "  print(\"required answer = \",x*y)\n",
        "elif o==\"-\":\n",
        "  print(\"required answer = \",x-y)\n",
        "else:\n",
        "  print(\"please enter the correct operator\")"
      ]
    },
    {
      "cell_type": "markdown",
      "metadata": {
        "id": "8DAp5vSQ7y01"
      },
      "source": [
        "**8.Write a program to demonstrate the use of logical operators**"
      ]
    },
    {
      "cell_type": "code",
      "execution_count": null,
      "metadata": {
        "colab": {
          "base_uri": "https://localhost:8080/"
        },
        "id": "aXWtK-HW7hmY",
        "outputId": "40d8efd8-f25d-4ba7-90c3-e6ce49728c0d"
      },
      "outputs": [
        {
          "name": "stdout",
          "output_type": "stream",
          "text": [
            "enter your age = 12\n",
            "eligibility for driving licence =  False\n"
          ]
        }
      ],
      "source": [
        "# logical operators - True, False & Not\n",
        "# a licence program\n",
        "a=int(input(\"enter your age = \"))\n",
        "if a>=18:\n",
        "  print(\"eligibility for driving licence = \",True)\n",
        "else:\n",
        "  print(\"eligibility for driving licence = \",False)"
      ]
    },
    {
      "cell_type": "markdown",
      "metadata": {
        "id": "r3ioCRG59bIS"
      },
      "source": [
        "**9.Write a Python program to convert user input from string to integer, float, and boolean types.**\n",
        "\n"
      ]
    },
    {
      "cell_type": "code",
      "execution_count": null,
      "metadata": {
        "id": "pl2OG8v39SIW",
        "outputId": "a2575c9d-7c8b-4cfa-fb1a-a22f9c8b428a"
      },
      "outputs": [
        {
          "name": "stdout",
          "output_type": "stream",
          "text": [
            "<class 'str'>\n",
            "<class 'int'>\n"
          ]
        }
      ],
      "source": [
        "a=str(input(\"enter the value = \"))\n",
        "print(type(a))\n",
        "b=int(a)\n",
        "print(type(b))"
      ]
    },
    {
      "cell_type": "code",
      "execution_count": null,
      "metadata": {
        "colab": {
          "base_uri": "https://localhost:8080/"
        },
        "id": "ChO2wwIq9G79",
        "outputId": "ea17ff47-cbe6-4292-e5ca-39aef5e8f448"
      },
      "outputs": [
        {
          "name": "stdout",
          "output_type": "stream",
          "text": [
            "<class 'str'>\n",
            "<class 'float'>\n"
          ]
        }
      ],
      "source": [
        "a=str(input(\"enter the value = \"))\n",
        "print(type(a))\n",
        "b=float(a)\n",
        "print(type(b))\n",
        ""
      ]
    },
    {
      "cell_type": "code",
      "execution_count": null,
      "metadata": {
        "id": "Cd8ZOhf19SIc",
        "outputId": "1fb02f03-b829-4731-fa86-1d9d6ad6b16c"
      },
      "outputs": [
        {
          "name": "stdout",
          "output_type": "stream",
          "text": [
            "<class 'str'>\n",
            "<class 'bool'>\n"
          ]
        }
      ],
      "source": [
        "a=str(input(\"enter the value = \"))\n",
        "print(type(a))\n",
        "b=bool(a)\n",
        "print(type(b))"
      ]
    },
    {
      "cell_type": "markdown",
      "metadata": {
        "id": "aEDyllbY-F8Q"
      },
      "source": [
        "**10.Write code to demonstrate type casting with list elements.**"
      ]
    },
    {
      "cell_type": "code",
      "execution_count": null,
      "metadata": {
        "colab": {
          "base_uri": "https://localhost:8080/"
        },
        "id": "kcVvQDuw-FPc",
        "outputId": "9fa5296e-bb0b-4fd1-e34e-2920639b2bf9"
      },
      "outputs": [
        {
          "name": "stdout",
          "output_type": "stream",
          "text": [
            "['new str', 2, 3, 4, 3.4, 6]\n"
          ]
        }
      ],
      "source": [
        "list_01=[1,2,3,4,3.4,\"python\"]\n",
        "list_01[-1]=6 # conversion >> str to int\n",
        "list_01[0]=\"new str\" # conversion >> int to str\n",
        "print(list_01)"
      ]
    },
    {
      "cell_type": "markdown",
      "metadata": {
        "id": "YTgOzha-_Hpf"
      },
      "source": [
        "**11.Write a program that checks if a number is positive, negative, or zero.**"
      ]
    },
    {
      "cell_type": "code",
      "execution_count": null,
      "metadata": {
        "colab": {
          "base_uri": "https://localhost:8080/"
        },
        "id": "aZj7Lwy7-djk",
        "outputId": "fc206ecd-46fd-4d7e-e831-f0d6bcc11730"
      },
      "outputs": [
        {
          "name": "stdout",
          "output_type": "stream",
          "text": [
            "enter the number = 55\n",
            "Positive\n"
          ]
        }
      ],
      "source": [
        "a=float(input(\"enter the number = \"))\n",
        "if a>0:\n",
        "  print(\"Positive\")\n",
        "elif a<0:\n",
        "  print(\"Negative\")\n",
        "elif a==0:\n",
        "  print(\"Zero\")\n",
        "else:\n",
        "  print(\"enter the correct number\")"
      ]
    },
    {
      "cell_type": "markdown",
      "metadata": {
        "id": "xFmThYRO_t3W"
      },
      "source": [
        "**12.Write a for loop to print numbers from 1 to 10.**"
      ]
    },
    {
      "cell_type": "code",
      "execution_count": null,
      "metadata": {
        "colab": {
          "base_uri": "https://localhost:8080/"
        },
        "id": "l2m7GY-x_ix5",
        "outputId": "6c68400a-fbc7-499d-a025-9b6b7d4537d8"
      },
      "outputs": [
        {
          "name": "stdout",
          "output_type": "stream",
          "text": [
            "1\n",
            "2\n",
            "3\n",
            "4\n",
            "5\n",
            "6\n",
            "7\n",
            "8\n",
            "9\n",
            "10\n"
          ]
        }
      ],
      "source": [
        "n=11\n",
        "i=1\n",
        "while i<n:\n",
        "  print(i)\n",
        "  i=i+1"
      ]
    },
    {
      "cell_type": "markdown",
      "metadata": {
        "id": "mSQBTURPANME"
      },
      "source": [
        "**13.Write a Python program to find the sum of all even numbers between 1 and 50.**"
      ]
    },
    {
      "cell_type": "code",
      "execution_count": null,
      "metadata": {
        "id": "Fcz7v7IT3i6B",
        "outputId": "f260ca72-6278-4dd5-81d4-c9cd881912de"
      },
      "outputs": [
        {
          "name": "stdout",
          "output_type": "stream",
          "text": [
            "sum of even number between 1 to 50 =  650\n"
          ]
        }
      ],
      "source": [
        "n=50\n",
        "i=2\n",
        "sum=0\n",
        "while i<=n:\n",
        "    sum=sum+i\n",
        "    i=i+2\n",
        "print(\"sum of even number between 1 to 50 = \", sum)\n"
      ]
    },
    {
      "cell_type": "markdown",
      "metadata": {
        "id": "-Qr4m50LBM97"
      },
      "source": [
        "**14.Write a program to reverse a string using a while loop.**"
      ]
    },
    {
      "cell_type": "code",
      "execution_count": null,
      "metadata": {
        "id": "SVuw9RLSA-EX",
        "outputId": "51f9e50f-9b81-4ef5-a800-8b0e5f0b69ff"
      },
      "outputs": [
        {
          "name": "stdout",
          "output_type": "stream",
          "text": [
            "lahsiv\n"
          ]
        }
      ],
      "source": [
        "string=str(input(\"enter the word = \"))\n",
        "rev_str=\"\"\n",
        "length=len(string)-1\n",
        "while length>=0:\n",
        "  rev_str+=string[length]\n",
        "  length-=1\n",
        "print(rev_str)"
      ]
    },
    {
      "cell_type": "markdown",
      "metadata": {
        "id": "zpqjOda8BR1T"
      },
      "source": [
        "**15.Write a Python program to calculate the factorial of a number provided by the user using a while loop**"
      ]
    },
    {
      "cell_type": "code",
      "execution_count": null,
      "metadata": {
        "id": "mBNO2Vxn2J7r",
        "outputId": "f88057d4-7085-480d-ca9b-fee581d1f9bd"
      },
      "outputs": [
        {
          "name": "stdout",
          "output_type": "stream",
          "text": [
            "Factorial of  5 is  120\n"
          ]
        }
      ],
      "source": [
        "a=int(input(\"enter the number = \"))\n",
        "b=1\n",
        "for i in range(1,a+1):\n",
        "  b=b*i\n",
        "print(\"Factorial of \",a,\"is \",b)"
      ]
    }
  ],
  "metadata": {
    "colab": {
      "provenance": []
    },
    "kernelspec": {
      "display_name": "base",
      "language": "python",
      "name": "python3"
    },
    "language_info": {
      "codemirror_mode": {
        "name": "ipython",
        "version": 3
      },
      "file_extension": ".py",
      "mimetype": "text/x-python",
      "name": "python",
      "nbconvert_exporter": "python",
      "pygments_lexer": "ipython3",
      "version": "3.12.7"
    }
  },
  "nbformat": 4,
  "nbformat_minor": 0
}